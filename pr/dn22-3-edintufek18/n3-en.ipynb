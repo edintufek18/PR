{
 "cells": [
  {
   "cell_type": "markdown",
   "metadata": {
    "lang": "en"
   },
   "source": [
    "## Predicting values\n",
    "\n",
    "Data mining, assignment, `18.04.2022`  \n",
    "**`Edin Tufek`**"
   ]
  },
  {
   "cell_type": "markdown",
   "metadata": {
    "lang": "en"
   },
   "source": [
    "We will get to know the practical use of simple methods of supervised modeling or forecasting. The common property of all of these methods is that with the help of random variables (attributes) they model the values of a specific variable,\n",
    "which we call *class* (in the context of classifying, classifying)\n",
    "or *response* (in the context of regression). We learnt about the basic differences between contexts in lectures and tutorials.\n",
    "\n",
    "The practical goals we will pursue are:\n",
    "* modeling of individual user's responses (responses) with the help of all other users,\n",
    "* Comparison of supervised modeling methods."
   ]
  },
  {
   "cell_type": "markdown",
   "metadata": {
    "lang": "en"
   },
   "source": [
    "### Data\n",
    "\n",
    "The description of the MovieLens database remains the same as for the first assignment."
   ]
  },
  {
   "cell_type": "markdown",
   "metadata": {
    "lang": "en"
   },
   "source": [
    "### Preparation of data\n",
    "\n",
    "For the purposes of this task we will prepare the data as follows:\n",
    "1. Select $m$ movies with at least 100 views.\n",
    "2. Select $n$ users who have watched at least 100 movies.\n",
    "3. Prepare matrix $X$ in the size of $m \\times n$, where the lines represent movies and columns represent users. Replace unknown values with $0$.\n",
    "\n",
    "For each of the selected $n$ users, a regression model will be built, which aims to predict film ratings."
   ]
  },
  {
   "cell_type": "markdown",
   "metadata": {},
   "source": [
    "<table>\n",
    "    <tr style=\"background-color: white;\">\n",
    "        <td style=\"border-right: 1px solid #000;\"></td>\n",
    "        <td></td>\n",
    "        <td style=\"border-right: 1px solid #000; border-left: 1px solid #000;\">$y^{(0)}$</td>\n",
    "        <td colspan=3 style=\"text-align:center;\">$X^{(0)}$</td>\n",
    "    </tr>\n",
    "    <tr style=\"border-bottom: 1px solid #000;\">\n",
    "        <td style=\"border-right: 1px solid #000;\"></td>\n",
    "        <td>Film/uporabnik</td>\n",
    "        <td style=\"border-right: 1px solid #000; border-left: 1px solid #000;\">$u_0$</td>\n",
    "        <td>$u_1$</td>\n",
    "        <td>$u_2$</td>\n",
    "        <td>$\\cdots$</td>\n",
    "    </tr>\n",
    "    <tr>\n",
    "        <td style=\"border-right: 1px solid #000;\">${f_1}$</td>\n",
    "        <td>Twelve Monkeys (a.k.a. 12 Monkeys) (1995)</td>\n",
    "        <td style=\"border-right: 1px solid #000; border-left: 1px solid #000;\">0</td>\n",
    "        <td>0</td>\n",
    "        <td>2.5</td>\n",
    "        <td>$\\cdots$</td>\n",
    "    </tr>\n",
    "    <tr>\n",
    "        <td style=\"border-right: 1px solid #000;\">${f_2}$</td>\n",
    "        <td>Dances with  Wolves (1990) </td>\n",
    "        <td style=\"border-right: 1px solid #000; border-left: 1px solid #000;\">4</td>\n",
    "        <td>0</td>\n",
    "        <td>0</td>\n",
    "        <td>$\\cdots$</td>\n",
    "    </tr>\n",
    "    <tr>\n",
    "        <td style=\"border-right: 1px solid #000;\">${f_3}$</td>\n",
    "        <td>Apollo 13 (1995)</td>\n",
    "        <td style=\"border-right: 1px solid #000; border-left: 1px solid #000;\">0</td>\n",
    "        <td>2</td>\n",
    "        <td>0</td>\n",
    "        <td>$\\cdots$</td>\n",
    "    </tr>\n",
    "    <tr>\n",
    "        <td style=\"border-right: 1px solid #000;\">${f_4}$</td>\n",
    "        <td>Sixth Sense, The (1999)</td><td style=\"border-right: 1px solid #000; border-left: 1px solid #000;\">3</td>\n",
    "        <td>0</td>\n",
    "        <td>4</td>\n",
    "        <td>$\\cdots$</td>\n",
    "    </tr>\n",
    "    <tr>\n",
    "        <td style=\"border-right: 1px solid #000;\">$\\cdots$</td>\n",
    "        <td>$\\cdots$</td>\n",
    "        <td style=\"border-right: 1px solid #000; border-left: 1px solid #000;\">$\\cdots$</td>\n",
    "        <td>$\\cdots$</td>\n",
    "        <td>$\\cdots$</td>\n",
    "        <td>$\\cdots$</td>\n",
    "    </tr>\n",
    "</table>\n",
    "\n",
    "<table>\n",
    "    <tr style=\"background-color: white;\">\n",
    "        <td style=\"border-right: 1px solid #000;\"></td>\n",
    "        <td></td>\n",
    "        <td style=\"border-right: 1px solid #000; border-left: 1px solid #000;\">$y^{(1)}$</td>\n",
    "        <td colspan=3 style=\"text-align:center;\">$X^{(1)}$</td>\n",
    "    </tr>\n",
    "    <tr style=\"border-bottom: 1px solid #000;\">\n",
    "        <td style=\"border-right: 1px solid #000;\"></td>\n",
    "        <td>Film/uporabnik</td>\n",
    "        <td style=\"border-right: 1px solid #000; border-left: 1px solid #000;\">$u_1$</td>\n",
    "        <td>$u_0$</td>\n",
    "        <td>$u_2$</td>\n",
    "        <td>$\\cdots$</td>\n",
    "    </tr>\n",
    "    <tr>\n",
    "        <td style=\"border-right: 1px solid #000;\">${f_1}$</td>\n",
    "        <td>Twelve Monkeys (a.k.a. 12 Monkeys) (1995)</td>\n",
    "        <td style=\"border-right: 1px solid #000; border-left: 1px solid #000;\">0</td>\n",
    "        <td>0</td>\n",
    "        <td>2.5</td>\n",
    "        <td>$\\cdots$</td>\n",
    "    </tr>\n",
    "    <tr>\n",
    "        <td style=\"border-right: 1px solid #000;\">${f_2}$</td>\n",
    "        <td>Dances with  Wolves (1990) </td>\n",
    "        <td style=\"border-right: 1px solid #000; border-left: 1px solid #000;\">0</td>\n",
    "        <td>4</td>\n",
    "        <td>0</td>\n",
    "        <td>$\\cdots$</td>\n",
    "    </tr>\n",
    "    <tr>\n",
    "        <td style=\"border-right: 1px solid #000;\">${f_3}$</td>\n",
    "        <td>Apollo 13 (1995)</td>\n",
    "        <td style=\"border-right: 1px solid #000; border-left: 1px solid #000;\">2</td>\n",
    "        <td>0</td>\n",
    "        <td>0</td>\n",
    "        <td>$\\cdots$</td>\n",
    "    </tr>\n",
    "    <tr>\n",
    "        <td style=\"border-right: 1px solid #000;\">${f_4}$</td>\n",
    "        <td>Sixth Sense, The (1999)</td><td style=\"border-right: 1px solid #000; border-left: 1px solid #000;\">0</td>\n",
    "        <td>3</td>\n",
    "        <td>4</td>\n",
    "        <td>$\\cdots$</td>\n",
    "    </tr>\n",
    "    <tr>\n",
    "        <td style=\"border-right: 1px solid #000;\">$\\cdots$</td>\n",
    "        <td>$\\cdots$</td>\n",
    "        <td style=\"border-right: 1px solid #000; border-left: 1px solid #000;\">$\\cdots$</td>\n",
    "        <td>$\\cdots$</td>\n",
    "        <td>$\\cdots$</td>\n",
    "        <td>$\\cdots$</td>\n",
    "    </tr>\n",
    "</table>"
   ]
  },
  {
   "cell_type": "markdown",
   "metadata": {
    "lang": "en"
   },
   "source": [
    "Data distribution for the model user $u_0$ (top matrix) and the user $u_1$ (bottom matrix)."
   ]
  },
  {
   "cell_type": "markdown",
   "metadata": {
    "lang": "en"
   },
   "source": [
    "### Questions"
   ]
  },
  {
   "cell_type": "markdown",
   "metadata": {
    "lang": "en"
   },
   "source": [
    "#### 1. Regression (100%)\n",
    "Set up a regression model for each user. Use one or more methods for learning regression models (linear regression, Ridge, Lasso, etc.).\n",
    "\n",
    "For each of the $n$ users, select the appropriate column in the data matrix. Therefore, fot the $i$ user we have:\n",
    "\n",
    "* Response vector $y^{(i)}$,\n",
    "* Data matrix $X^{(i)}$ containing all columns *except* $i$.\n",
    "    \n",
    "For an easier understanding see the above tables. Repeat the test procedure several times (e.g., three times) with the help of the learning and test sets:\n",
    "\n",
    "* Divide the films that the user viewed *randomly* into 75% (learning set) and 25% (test set).\n",
    "* Learn the regression model on learning set (select the appropriate rows in $X$ and $y$).\n",
    "* Evaluate the model on the test set (select the appropriate rows in $X$ and $y$).\n",
    "\n",
    "Then divide the evaluation score with the number of experiments to get the final score.\n",
    "\n",
    "Report on the performance of your model. Focus on the following questions:\n",
    "\n",
    "* Justify an appropriate evaluation score. Does the predict the scores well?\n",
    "* Rate the models for all $n$ users with the selected evaluation score.\n",
    "\n",
    "You can split the code needed for each answer into multiple cells."
   ]
  },
  {
   "cell_type": "code",
   "execution_count": 1,
   "metadata": {},
   "outputs": [],
   "source": [
    "import pandas as pd\n",
    "import numpy as np\n",
    "from csv import DictReader\n",
    "from sklearn.metrics import mean_squared_error\n",
    "from sklearn.model_selection import train_test_split"
   ]
  },
  {
   "cell_type": "code",
   "execution_count": 2,
   "metadata": {},
   "outputs": [],
   "source": [
    "ratings_raw = pd.read_csv('podatki/ml-latest-small/ratings.csv')\n",
    "\n",
    "reader = DictReader(open('podatki/ml-latest-small/movies.csv', 'rt', encoding='utf-8'))\n",
    "movie_names = {}\n",
    "for row in reader:\n",
    "    movie = int(row[\"movieId\"])\n",
    "    title = row[\"title\"]\n",
    "    movie_names[movie] = title"
   ]
  },
  {
   "cell_type": "code",
   "execution_count": 3,
   "metadata": {},
   "outputs": [],
   "source": [
    "movies = set(ratings_raw[\"movieId\"])\n",
    "m_views = {}\n",
    "for movie in movies:\n",
    "    if(len(ratings_raw[ratings_raw[\"movieId\"] == movie]) >= 100):\n",
    "        m_views[movie] = len(ratings_raw[ratings_raw[\"movieId\"] == movie])"
   ]
  },
  {
   "cell_type": "code",
   "execution_count": 4,
   "metadata": {},
   "outputs": [],
   "source": [
    "users = set(ratings_raw[\"userId\"])\n",
    "u_views = dict()\n",
    "for user in users:\n",
    "    if(len(ratings_raw[ratings_raw[\"userId\"] == user]) >= 100):\n",
    "        u_views[user] = len(ratings_raw[ratings_raw[\"userId\"] == user])"
   ]
  },
  {
   "cell_type": "markdown",
   "metadata": {},
   "source": [
    "I put movies which has at least 100 ratings in one list. The users which rated at least 100 movies I put in another list."
   ]
  },
  {
   "cell_type": "code",
   "execution_count": null,
   "metadata": {
    "scrolled": true
   },
   "outputs": [],
   "source": [
    "matrix = []\n",
    "\n",
    "for movie in m_views:\n",
    "    matrix_row = []\n",
    "    temp_row = ratings_raw[ratings_raw[\"movieId\"] == movie]\n",
    "    for user in u_views:\n",
    "        \n",
    "\n",
    "        if temp_row[temp_row[\"userId\"] == user].empty:\n",
    "            continue\n",
    "            #matrix_row.append(0)\n",
    "        else:\n",
    "            matrix_row.append(temp_row[temp_row[\"userId\"] == user][\"rating\"].item())\n",
    "    matrix.append(matrix_row)\n",
    "\n",
    "matrix = np.array(matrix)\n",
    "matrix"
   ]
  },
  {
   "cell_type": "markdown",
   "metadata": {},
   "source": [
    "I create matrix which contains lists of ratings per movie in a list."
   ]
  },
  {
   "cell_type": "code",
   "execution_count": null,
   "metadata": {},
   "outputs": [],
   "source": [
    "from sklearn.linear_model import LinearRegression\n",
    "avg_rate = []\n",
    "for i in range(100):\n",
    "    X, y = np.split(matrix,[-1],axis=1)\n",
    "    X_train, X_test, y_train, y_test = train_test_split(X, y, test_size=0.25,shuffle =True)\n",
    "    model = LinearRegression()\n",
    "    model.fit(X_train, y_train)\n",
    "    y_pred = model.predict(X_test)\n",
    "    mse = mean_squared_error(y_test, y_pred, squared=False)\n",
    "    avg_rate.append(mse)\n",
    "avg_rate = np.array(avg_rate)\n",
    "avg_rate.mean()\n"
   ]
  },
  {
   "cell_type": "code",
   "execution_count": null,
   "metadata": {},
   "outputs": [],
   "source": [
    "from sklearn.linear_model import Ridge\n",
    "avg_rate = []\n",
    "for i in range(100):\n",
    "    X, y = np.split(matrix,[-1],axis=1)\n",
    "    X_train, X_test, y_train, y_test = train_test_split(X, y, test_size=0.25,shuffle =True)\n",
    "    model = Ridge(alpha=0.5)\n",
    "    model.fit(X_train, y_train)\n",
    "    y_pred = model.predict(X_test)\n",
    "    mse = mean_squared_error(y_test, y_pred, squared=False)\n",
    "    avg_rate.append(mse)\n",
    "avg_rate = np.array(avg_rate)\n",
    "avg_rate.mean()\n"
   ]
  },
  {
   "cell_type": "code",
   "execution_count": null,
   "metadata": {},
   "outputs": [],
   "source": [
    "from sklearn.linear_model import Lasso\n",
    "avg_rate = []\n",
    "for i in range(100):\n",
    "    X, y = np.split(matrix,[-1],axis=1)\n",
    "    X_train, X_test, y_train, y_test = train_test_split(X, y, test_size=0.25,shuffle =True)\n",
    "    model = Lasso(alpha=0.1)\n",
    "    model.fit(X_train, y_train)\n",
    "    y_pred = model.predict(X_test)\n",
    "    mse = mean_squared_error(y_test, y_pred, squared=False)\n",
    "    avg_rate.append(mse)\n",
    "avg_rate = np.array(avg_rate)\n",
    "avg_rate.mean()"
   ]
  },
  {
   "cell_type": "markdown",
   "metadata": {},
   "source": [
    "I implemented some linear regression models. I was sure on every iteration to reshuffle the matrix because for me it was authentic way to grade the model.I chose MSE over MAE because is easier to operate non differential mathematical equations than MAE  . I suppose it could be better but for me is ok. "
   ]
  },
  {
   "cell_type": "markdown",
   "metadata": {
    "lang": "en"
   },
   "source": [
    "#### Bonus question (15%)\n",
    "Create a new user who represents your movie ratings. Rate some movies after your own taste and see how models \n",
    "evaluate non-selected movies. Do you find the predictions appropriate?\n",
    "\n",
    "You can split the code needed for each answer into multiple cells."
   ]
  },
  {
   "cell_type": "code",
   "execution_count": null,
   "metadata": {
    "hide_input": false
   },
   "outputs": [],
   "source": []
  },
  {
   "cell_type": "markdown",
   "metadata": {
    "lang": "en"
   },
   "source": [
    "### Notes\n",
    "\n",
    "Implementation, description, and evaluation of supervised learning methods are included in libraries `skleaarn` or` Orange`."
   ]
  }
 ],
 "metadata": {
  "kernelspec": {
   "display_name": "Python 3",
   "language": "python",
   "name": "python3"
  },
  "language_info": {
   "codemirror_mode": {
    "name": "ipython",
    "version": 3
   },
   "file_extension": ".py",
   "mimetype": "text/x-python",
   "name": "python",
   "nbconvert_exporter": "python",
   "pygments_lexer": "ipython3",
   "version": "3.8.3"
  },
  "latex_envs": {
   "LaTeX_envs_menu_present": true,
   "autocomplete": true,
   "bibliofile": "biblio.bib",
   "cite_by": "apalike",
   "current_citInitial": 1,
   "eqLabelWithNumbers": true,
   "eqNumInitial": 1,
   "hotkeys": {
    "equation": "Ctrl-E",
    "itemize": "Ctrl-I"
   },
   "labels_anchors": false,
   "latex_user_defs": false,
   "report_style_numbering": false,
   "user_envs_cfg": false
  },
  "nbTranslate": {
   "displayLangs": [
    "en"
   ],
   "hotkey": "alt-t",
   "langInMainMenu": true,
   "sourceLang": "sl",
   "targetLang": "en",
   "useGoogleTranslate": true
  },
  "varInspector": {
   "cols": {
    "lenName": 16,
    "lenType": 16,
    "lenVar": 40
   },
   "kernels_config": {
    "python": {
     "delete_cmd_postfix": "",
     "delete_cmd_prefix": "del ",
     "library": "var_list.py",
     "varRefreshCmd": "print(var_dic_list())"
    },
    "r": {
     "delete_cmd_postfix": ") ",
     "delete_cmd_prefix": "rm(",
     "library": "var_list.r",
     "varRefreshCmd": "cat(var_dic_list()) "
    }
   },
   "types_to_exclude": [
    "module",
    "function",
    "builtin_function_or_method",
    "instance",
    "_Feature"
   ],
   "window_display": false
  }
 },
 "nbformat": 4,
 "nbformat_minor": 2
}
