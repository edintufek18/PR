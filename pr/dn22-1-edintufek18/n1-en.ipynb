{
 "cells": [
  {
   "cell_type": "markdown",
   "metadata": {
    "lang": "en"
   },
   "source": [
    "## Data preparation, basic statistics and visualization\n",
    "\n",
    "Data mining, assignment, 21.03.2022  \n",
    "**Edin Tufek**"
   ]
  },
  {
   "cell_type": "markdown",
   "metadata": {
    "lang": "en"
   },
   "source": [
    "An inevitable part of every project in the field of data mining is searching for,\n",
    "editing and preparing data. In this task, you will get acquainted with a dataset and use procedures for converting data into the appropriate format and do\n",
    "overview and display of basic statistics."
   ]
  },
  {
   "cell_type": "markdown",
   "metadata": {
    "lang": "en"
   },
   "source": [
    "### Data\n",
    "\n",
    "In the task you will review and prepare Hollywood movie ratings from\n",
    "the [MovieLens](https://grouplens.org/datasets/movielens/) collection from the period **1995-2016**.\n",
    "\n",
    "The same data is used in all assignments, so you should get to know the data well. This is a database for\n",
    "evaluating recommendations systems that include viewers and their ratings on a scale of 1 to 5.\n",
    "In addition to the basic user and rating matrix, it includes also movie information (e.g., genre, date, tags, players).\n",
    "\n",
    "The dataset is in folder `./podatki/ml-latest-small`. The database contains the following files:\n",
    "\n",
    "* ratings.csv: user data and ratings,\n",
    "* movies.csv: movie genre information,\n",
    "* cast.csv: player information,\n",
    "* tags.csv: tag information (\\emph{tags}),\n",
    "* links.csv: links to related databases.\n",
    "\n",
    "Before starting to solve the task, take a good look at the data and read the **README.txt** file. You can learn about the details on the [website](http://files.grouplens.org/datasets/movielens/ml-latest-small-README.html).\n",
    "\n",
    "Prepare methods for loading data into the appropriate data structures. They will come in handy\n",
    "also for further tasks.\n",
    "Pay attention to the size of the data."
   ]
  },
  {
   "cell_type": "markdown",
   "metadata": {
    "lang": "en"
   },
   "source": [
    "Write down the code to read the files and prepare the appropriate matrices (and other structures) of the data that you will use to answer the questions below.\n",
    "\n",
    "You can split the code into multiple cells."
   ]
  },
  {
   "cell_type": "code",
   "execution_count": 1,
   "metadata": {},
   "outputs": [],
   "source": [
    "import numpy as np\n",
    "np.set_printoptions(suppress=True)\n",
    "import csv\n",
    "import matplotlib\n",
    "import matplotlib.pyplot as plt\n",
    "from collections import OrderedDict\n",
    "from Orange.data.filter import SameValue\n",
    "from Orange.data import Table\n",
    "from datetime import datetime\n",
    "import pandas as pd"
   ]
  },
  {
   "cell_type": "markdown",
   "metadata": {
    "lang": "en"
   },
   "source": [
    "### Questions\n",
    "\n",
    "The main purpose of data mining is *knowledge discovery from data*,\n",
    "i.e., answering questions using computational approaches.\n",
    "\n",
    "By using the principles you have learned on the exercises and lectures, answer\n",
    "the questions below. For each question, think carefully about the way you will\n",
    "best give, show or justify the answer. The essential part is the answers to\n",
    "questions rather than the implemention of your solution."
   ]
  },
  {
   "cell_type": "markdown",
   "metadata": {
    "lang": "en"
   },
   "source": [
    "#### Question 1 (15%):\n",
    "Which movies are the best on average? Prepare a list of\n",
    "movies and their average ratings and print 10 movies from the top of the list.\n",
    "Do you see any problems with such an assessment? How could you solve it? What are they?\n",
    "results of that?\n",
    "\n",
    "You can split the code into multiple cells."
   ]
  },
  {
   "cell_type": "code",
   "execution_count": 2,
   "metadata": {},
   "outputs": [
    {
     "name": "stdout",
     "output_type": "stream",
     "text": [
      "Movie: Godfather, The (1972), Rating: 4.49\n",
      "Movie: Shawshank Redemption, The (1994), Rating: 4.49\n",
      "Movie: African Queen, The (1951), Rating: 4.42\n",
      "Movie: Godfather: Part II, The (1974), Rating: 4.39\n",
      "Movie: Maltese Falcon, The (1941), Rating: 4.39\n",
      "Movie: Usual Suspects, The (1995), Rating: 4.37\n",
      "Movie: Raging Bull (1980), Rating: 4.35\n",
      "Movie: Chinatown (1974), Rating: 4.34\n",
      "Movie: Rear Window (1954), Rating: 4.32\n",
      "Movie: City of God (Cidade de Deus) (2002), Rating: 4.3\n",
      "Movie: 12 Angry Men (1957), Rating: 4.3\n"
     ]
    }
   ],
   "source": [
    "ratings_raw = pd.read_csv('podatki/ml-latest-small/ratings.csv')\n",
    "movies_raw = pd.read_csv('podatki/ml-latest-small/movies.csv')\n",
    "movies_raw = movies_raw.drop([\"genres\"], axis=1)\n",
    "ratings_by_movie = ratings_raw.groupby(\"movieId\")[\"rating\"].mean()\n",
    "\n",
    "\n",
    "test= []\n",
    "for i in list(ratings_by_movie[ratings_by_movie >= 3.5].index):\n",
    "    if (ratings_raw[\"movieId\"] == i).sum() >= 50:\n",
    "        test.append([i,movies_raw[movies_raw[\"movieId\"] == i][\"title\"].to_string(index=False),round(ratings_by_movie[i],2)])\n",
    "#test_list.sort(key = lambda test_list: test_list[1])\n",
    "test.sort(key = lambda test_list: test_list[2])\n",
    "test.reverse()\n",
    "for top_film in test[:11]:\n",
    "    print(\"Movie: \" + top_film[1] + \", Rating: \" + str(top_film[2]))"
   ]
  },
  {
   "cell_type": "markdown",
   "metadata": {},
   "source": [
    "I used pandas  because it was easier for me to manuipulate numbers and strings together. First I grouped every film with average rating of the movie. Then I put movies in the list if the rating is above 3.5 and  above 50 ratings per movie. Then sorted according to rating then reversed the list and printed the first 10 movies from the lsit.  "
   ]
  },
  {
   "cell_type": "markdown",
   "metadata": {
    "lang": "en"
   },
   "source": [
    "#### Question 2 (15%):\n",
    "Each film belongs to one or more genres.\n",
    "How many genres are there? Show the distribution of genres using appropriate\n",
    "visualization.\n",
    "\n",
    "You can split the code into multiple cells."
   ]
  },
  {
   "cell_type": "code",
   "execution_count": 3,
   "metadata": {
    "scrolled": true
   },
   "outputs": [
    {
     "name": "stdout",
     "output_type": "stream",
     "text": [
      "<class 'list'>\n"
     ]
    },
    {
     "data": {
      "image/png": "[encoded data removed]",
      "text/plain": [
       "<Figure size 432x288 with 1 Axes>"
      ]
     },
     "metadata": {
      "needs_background": "light"
     },
     "output_type": "display_data"
    }
   ],
   "source": [
    "movies_csv = open('podatki/ml-latest-small/movies.csv')\n",
    "lista = []\n",
    "\n",
    "csv_readeri = csv.reader(movies_csv)\n",
    "next(csv_readeri)\n",
    "\n",
    "for row in csv_readeri:\n",
    "    \n",
    "    for i in row[2].split(\"|\"):\n",
    "       \n",
    "        lista.append(i)\n",
    "\n",
    "sets = set(lista) \n",
    "sets.remove('IMAX')\n",
    "od = OrderedDict()\n",
    "for genres in sets:\n",
    "    od[genres] = lista.count(genres)\n",
    "    \n",
    "x = list(od.keys())\n",
    "y = list(od.values())\n",
    "print(type(x))\n",
    "type(y)\n",
    "plt.barh(x,y)\n",
    "plt.title('Distribution of genres')\n",
    "plt.ylabel('Genre')\n",
    "plt.xlabel('Frequency')\n",
    "plt.show()"
   ]
  },
  {
   "cell_type": "markdown",
   "metadata": {
    "lang": "en"
   },
   "source": [
    "Answer: **write down the answer and explain it**"
   ]
  },
  {
   "cell_type": "markdown",
   "metadata": {},
   "source": [
    "There are 19 movie genres. Also there are movies that are not even listed in any genre"
   ]
  },
  {
   "cell_type": "markdown",
   "metadata": {
    "lang": "en"
   },
   "source": [
    "#### Question 3 (20%):\n",
    "The number of ratings is different for each film. But is there a relationship between the number of ratings and the average movie rating? Describe the procedure that you used to answer the question.\n",
    "\n",
    "You can split the code into multiple cells."
   ]
  },
  {
   "cell_type": "code",
   "execution_count": 4,
   "metadata": {},
   "outputs": [
    {
     "name": "stderr",
     "output_type": "stream",
     "text": [
      "<ipython-input-4-b69dc71ecee3>:11: UserWarning: color is redundantly defined by the 'color' keyword argument and the fmt string \"k.\" (-> color='k'). The keyword argument will take precedence.\n",
      "  plt.plot(avg_ratings,avg_num,\"k.\",color='blue')\n"
     ]
    },
    {
     "data": {
      "text/plain": [
       "Text(0.5, 1.0, 'Rating-Number of ratings relationship')"
      ]
     },
     "execution_count": 4,
     "metadata": {},
     "output_type": "execute_result"
    },
    {
     "data": {
      "image/png": "[encoded data removed]",
      "text/plain": [
       "<Figure size 432x288 with 1 Axes>"
      ]
     },
     "metadata": {
      "needs_background": "light"
     },
     "output_type": "display_data"
    }
   ],
   "source": [
    "avg_ratings = []\n",
    "avg_num = []\n",
    "for movie in set(ratings_raw[\"movieId\"]):\n",
    "    ratings = ratings_raw[ratings_raw[\"movieId\"] == movie][\"rating\"].count()\n",
    "    avg_num.append(ratings)\n",
    "    avg_ratings.append(ratings_raw[ratings_raw[\"movieId\"] == movie][\"rating\"].mean())\n",
    "\n",
    "\n",
    "\n",
    "plt.figure()\n",
    "plt.plot(avg_ratings,avg_num,\"k.\",color='blue')\n",
    "plt.xlabel('Rating')\n",
    "plt.ylabel('Number of ratings')\n",
    "plt.title('Rating-Number of ratings relationship')\n",
    "\n"
   ]
  },
  {
   "cell_type": "markdown",
   "metadata": {},
   "source": [
    "%%markdown\n",
    "I did a scatter plot with rating as x axis and number of ratings as y axis. According to me the majority rated  from rating 3.5 to 4.5."
   ]
  },
  {
   "cell_type": "code",
   "execution_count": 5,
   "metadata": {},
   "outputs": [
    {
     "data": {
      "text/plain": [
       "0.13082726621823268"
      ]
     },
     "execution_count": 5,
     "metadata": {},
     "output_type": "execute_result"
    }
   ],
   "source": [
    "def pearson(x, y):\n",
    "    return np.mean(((x - np.mean(x))*(y-np.mean(y)))/(np.std(x)*np.std(y)))\n",
    "\n",
    "pearson(avg_ratings,avg_num)\n",
    "        "
   ]
  },
  {
   "cell_type": "markdown",
   "metadata": {
    "lang": "en"
   },
   "source": [
    "I took the pearson function from exercises and implement it. The result is approximately 0.13. It seems the relation has pinch of positive correlation."
   ]
  },
  {
   "cell_type": "markdown",
   "metadata": {
    "lang": "en"
   },
   "source": [
    "#### Question 4 (30%):\n",
    "Each rating was entered on a specific date (column\n",
    "*timestamp*). Does the popularity of individual films change over time?\n",
    "Solve the problem by allocating ratings for a given film by time and at any time\n",
    "point calculate the average for the last 30, 50, or 100 ratings. Draw a graph, how \n",
    "the rating changes and show it for two interesting examples of movies.\n",
    "\n",
    "You can split the code into multiple cells."
   ]
  },
  {
   "cell_type": "code",
   "execution_count": 6,
   "metadata": {},
   "outputs": [],
   "source": [
    "times = []\n",
    "reader = csv.DictReader(open('podatki/ml-latest-small/ratings.csv', 'rt', encoding='utf-8'))\n",
    "for row in reader:\n",
    "    user = row[\"userId\"]\n",
    "    movie = row[\"movieId\"]\n",
    "    rating = row[\"rating\"]\n",
    "    timestamp = row[\"timestamp\"]\n",
    "    ts = datetime.fromtimestamp(int(timestamp)).strftime('%Y-%m-%d %H:%M')\n",
    "    time = datetime.strptime(ts, '%Y-%m-%d %H:%M')\n",
    "    times.append(time)\n",
    "ratings_raw[\"date\"] = times\n"
   ]
  },
  {
   "cell_type": "code",
   "execution_count": 7,
   "metadata": {},
   "outputs": [],
   "source": [
    "# Movie: Godfather, The (1972), Rating: 4.49 id= 858\n",
    "# Movie: Godfather: Part II, The (1974), Rating: 4.39 id=1221\n",
    "first_film = {}\n",
    "second_film = {}\n",
    "\n",
    "for index in ratings_raw.index:\n",
    "        \n",
    "        if ratings_raw['movieId'][index] == 858:\n",
    "            if ratings_raw['movieId'][index] in first_film:\n",
    "                first_film[ratings_raw['movieId'][index]].append((ratings_raw['rating'][index],ratings_raw['date'][index]))\n",
    "            else:\n",
    "                first_film[ratings_raw['movieId'][index]] = [(ratings_raw['rating'][index],ratings_raw['date'][index])]\n",
    "        if ratings_raw['movieId'][index] == 1221:\n",
    "            if ratings_raw['movieId'][index] in second_film:\n",
    "                second_film[ratings_raw['movieId'][index]].append((ratings_raw['rating'][index],ratings_raw['date'][index]))\n",
    "            else:\n",
    "                second_film[ratings_raw['movieId'][index]] = [(ratings_raw['rating'][index],ratings_raw['date'][index])]\n",
    "                \n",
    "\n",
    "        #print(rating['Name'][ind], df['Stream'][ind])"
   ]
  },
  {
   "cell_type": "code",
   "execution_count": 8,
   "metadata": {},
   "outputs": [
    {
     "data": {
      "text/plain": [
       "[[858, (4.0, Timestamp('1997-01-21 13:45:00'))],\n",
       " [858, (5.0, Timestamp('1997-02-06 02:11:00'))],\n",
       " [858, (5.0, Timestamp('1997-04-07 08:42:00'))],\n",
       " [858, (5.0, Timestamp('1997-04-09 06:23:00'))],\n",
       " [858, (4.0, Timestamp('1997-04-09 10:05:00'))],\n",
       " [858, (5.0, Timestamp('1997-04-13 19:11:00'))],\n",
       " [858, (4.0, Timestamp('1997-04-17 20:37:00'))],\n",
       " [858, (4.0, Timestamp('1997-05-19 16:17:00'))],\n",
       " [858, (4.0, Timestamp('1997-06-04 05:38:00'))],\n",
       " [858, (5.0, Timestamp('1997-06-23 15:35:00'))],\n",
       " [858, (4.0, Timestamp('1997-07-17 03:09:00'))],\n",
       " [858, (5.0, Timestamp('1997-12-03 17:27:00'))],\n",
       " [858, (5.0, Timestamp('1998-02-02 00:11:00'))],\n",
       " [858, (5.0, Timestamp('1998-08-15 03:18:00'))],\n",
       " [858, (5.0, Timestamp('1998-10-07 15:11:00'))],\n",
       " [858, (5.0, Timestamp('1998-12-07 18:43:00'))],\n",
       " [858, (5.0, Timestamp('1999-10-03 12:59:00'))],\n",
       " [858, (5.0, Timestamp('1999-10-04 04:26:00'))],\n",
       " [858, (4.0, Timestamp('1999-10-04 21:03:00'))],\n",
       " [858, (5.0, Timestamp('1999-10-06 20:35:00'))],\n",
       " [858, (5.0, Timestamp('1999-10-07 21:48:00'))],\n",
       " [858, (4.0, Timestamp('1999-10-14 13:39:00'))],\n",
       " [858, (4.0, Timestamp('1999-12-11 17:46:00'))],\n",
       " [858, (5.0, Timestamp('1999-12-11 21:09:00'))],\n",
       " [858, (3.0, Timestamp('1999-12-12 01:56:00'))],\n",
       " [858, (5.0, Timestamp('1999-12-13 20:27:00'))],\n",
       " [858, (5.0, Timestamp('1999-12-13 23:10:00'))],\n",
       " [858, (5.0, Timestamp('1999-12-14 06:38:00'))],\n",
       " [858, (3.0, Timestamp('1999-12-16 19:38:00'))],\n",
       " [858, (5.0, Timestamp('2000-01-08 01:43:00'))],\n",
       " [858, (5.0, Timestamp('2000-02-05 20:30:00'))],\n",
       " [858, (4.0, Timestamp('2000-04-02 16:15:00'))],\n",
       " [858, (5.0, Timestamp('2000-04-07 07:51:00'))],\n",
       " [858, (5.0, Timestamp('2000-04-24 19:48:00'))],\n",
       " [858, (5.0, Timestamp('2000-04-25 19:55:00'))],\n",
       " [858, (5.0, Timestamp('2000-05-05 01:07:00'))],\n",
       " [858, (5.0, Timestamp('2000-05-20 14:09:00'))],\n",
       " [858, (4.0, Timestamp('2000-06-02 09:54:00'))],\n",
       " [858, (3.0, Timestamp('2000-06-02 18:44:00'))],\n",
       " [858, (4.0, Timestamp('2000-06-03 20:10:00'))],\n",
       " [858, (5.0, Timestamp('2000-07-31 21:10:00'))],\n",
       " [858, (5.0, Timestamp('2000-08-02 22:20:00'))],\n",
       " [858, (5.0, Timestamp('2000-08-05 16:20:00'))],\n",
       " [858, (4.0, Timestamp('2000-08-06 08:21:00'))],\n",
       " [858, (5.0, Timestamp('2000-10-11 00:05:00'))],\n",
       " [858, (4.0, Timestamp('2000-11-09 06:07:00'))],\n",
       " [858, (5.0, Timestamp('2000-11-10 08:16:00'))],\n",
       " [858, (3.0, Timestamp('2000-11-15 04:29:00'))],\n",
       " [858, (4.0, Timestamp('2000-11-17 03:14:00'))],\n",
       " [858, (5.0, Timestamp('2000-11-19 03:21:00'))],\n",
       " [858, (2.0, Timestamp('2000-11-20 09:20:00'))],\n",
       " [858, (5.0, Timestamp('2000-11-20 09:35:00'))],\n",
       " [858, (5.0, Timestamp('2000-11-21 02:27:00'))],\n",
       " [858, (5.0, Timestamp('2000-11-27 23:24:00'))],\n",
       " [858, (5.0, Timestamp('2000-11-28 13:39:00'))],\n",
       " [858, (5.0, Timestamp('2000-12-01 03:19:00'))],\n",
       " [858, (5.0, Timestamp('2000-12-07 05:24:00'))],\n",
       " [858, (5.0, Timestamp('2001-01-02 07:49:00'))],\n",
       " [858, (5.0, Timestamp('2001-01-22 16:39:00'))],\n",
       " [858, (4.0, Timestamp('2001-01-30 13:54:00'))],\n",
       " [858, (5.0, Timestamp('2001-04-02 21:50:00'))],\n",
       " [858, (5.0, Timestamp('2001-04-10 16:38:00'))],\n",
       " [858, (5.0, Timestamp('2001-08-16 07:11:00'))],\n",
       " [858, (5.0, Timestamp('2001-10-13 04:23:00'))],\n",
       " [858, (5.0, Timestamp('2001-10-16 19:37:00'))],\n",
       " [858, (3.0, Timestamp('2001-12-31 18:31:00'))],\n",
       " [858, (5.0, Timestamp('2002-01-18 02:51:00'))],\n",
       " [858, (5.0, Timestamp('2002-02-03 16:34:00'))],\n",
       " [858, (5.0, Timestamp('2002-04-12 23:09:00'))],\n",
       " [858, (5.0, Timestamp('2002-04-18 12:02:00'))],\n",
       " [858, (4.0, Timestamp('2002-06-01 21:15:00'))],\n",
       " [858, (5.0, Timestamp('2002-06-24 16:39:00'))],\n",
       " [858, (5.0, Timestamp('2002-07-17 19:43:00'))],\n",
       " [858, (5.0, Timestamp('2002-08-20 20:56:00'))],\n",
       " [858, (5.0, Timestamp('2002-12-28 23:05:00'))],\n",
       " [858, (5.0, Timestamp('2003-04-09 20:20:00'))],\n",
       " [858, (4.5, Timestamp('2003-06-10 21:38:00'))],\n",
       " [858, (4.0, Timestamp('2003-07-07 07:11:00'))],\n",
       " [858, (5.0, Timestamp('2003-11-14 16:13:00'))],\n",
       " [858, (4.5, Timestamp('2004-01-16 02:58:00'))],\n",
       " [858, (4.5, Timestamp('2004-05-26 16:26:00'))],\n",
       " [858, (5.0, Timestamp('2004-07-28 23:21:00'))],\n",
       " [858, (5.0, Timestamp('2004-10-14 17:52:00'))],\n",
       " [858, (5.0, Timestamp('2004-11-11 01:17:00'))],\n",
       " [858, (5.0, Timestamp('2005-01-28 22:47:00'))],\n",
       " [858, (5.0, Timestamp('2005-02-11 23:16:00'))],\n",
       " [858, (3.5, Timestamp('2005-03-05 20:17:00'))],\n",
       " [858, (5.0, Timestamp('2005-03-18 00:36:00'))],\n",
       " [858, (5.0, Timestamp('2005-03-22 08:07:00'))],\n",
       " [858, (4.0, Timestamp('2005-04-03 16:15:00'))],\n",
       " [858, (4.0, Timestamp('2005-04-16 23:00:00'))],\n",
       " [858, (3.5, Timestamp('2005-04-19 12:44:00'))],\n",
       " [858, (5.0, Timestamp('2005-04-27 03:49:00'))],\n",
       " [858, (4.5, Timestamp('2005-06-08 18:13:00'))],\n",
       " [858, (3.5, Timestamp('2005-07-24 03:15:00'))],\n",
       " [858, (5.0, Timestamp('2005-09-04 12:19:00'))],\n",
       " [858, (5.0, Timestamp('2005-09-23 11:50:00'))],\n",
       " [858, (5.0, Timestamp('2005-10-24 00:02:00'))],\n",
       " [858, (4.0, Timestamp('2005-11-10 23:39:00'))],\n",
       " [858, (5.0, Timestamp('2006-01-27 18:27:00'))],\n",
       " [858, (3.5, Timestamp('2006-01-28 20:50:00'))],\n",
       " [858, (5.0, Timestamp('2006-01-30 23:16:00'))],\n",
       " [858, (4.0, Timestamp('2006-02-03 21:14:00'))],\n",
       " [858, (4.5, Timestamp('2006-02-16 01:51:00'))],\n",
       " [858, (4.0, Timestamp('2006-03-06 02:05:00'))],\n",
       " [858, (5.0, Timestamp('2006-03-10 22:03:00'))],\n",
       " [858, (1.0, Timestamp('2006-03-22 18:35:00'))],\n",
       " [858, (5.0, Timestamp('2006-04-11 13:51:00'))],\n",
       " [858, (4.5, Timestamp('2006-04-18 22:24:00'))],\n",
       " [858, (5.0, Timestamp('2006-05-26 21:04:00'))],\n",
       " [858, (4.5, Timestamp('2006-06-16 21:55:00'))],\n",
       " [858, (5.0, Timestamp('2006-08-01 04:43:00'))],\n",
       " [858, (5.0, Timestamp('2006-08-13 18:15:00'))],\n",
       " [858, (2.5, Timestamp('2006-11-13 00:20:00'))],\n",
       " [858, (4.0, Timestamp('2006-12-29 22:44:00'))],\n",
       " [858, (5.0, Timestamp('2007-02-05 06:33:00'))],\n",
       " [858, (4.5, Timestamp('2007-03-03 08:54:00'))],\n",
       " [858, (4.0, Timestamp('2007-07-04 05:13:00'))],\n",
       " [858, (5.0, Timestamp('2008-01-26 21:16:00'))],\n",
       " [858, (4.5, Timestamp('2008-02-05 19:06:00'))],\n",
       " [858, (3.5, Timestamp('2008-04-15 02:50:00'))],\n",
       " [858, (5.0, Timestamp('2008-04-16 00:17:00'))],\n",
       " [858, (4.5, Timestamp('2008-04-25 14:19:00'))],\n",
       " [858, (3.0, Timestamp('2008-07-01 13:47:00'))],\n",
       " [858, (4.5, Timestamp('2008-07-12 02:51:00'))],\n",
       " [858, (4.0, Timestamp('2008-08-05 18:09:00'))],\n",
       " [858, (5.0, Timestamp('2008-08-10 22:16:00'))],\n",
       " [858, (5.0, Timestamp('2008-11-10 13:48:00'))],\n",
       " [858, (4.5, Timestamp('2008-11-29 01:25:00'))],\n",
       " [858, (5.0, Timestamp('2009-01-17 00:28:00'))],\n",
       " [858, (5.0, Timestamp('2009-01-24 16:13:00'))],\n",
       " [858, (2.0, Timestamp('2009-04-03 05:37:00'))],\n",
       " [858, (5.0, Timestamp('2009-10-15 07:27:00'))],\n",
       " [858, (5.0, Timestamp('2010-03-17 00:46:00'))],\n",
       " [858, (4.5, Timestamp('2010-03-28 00:53:00'))],\n",
       " [858, (4.5, Timestamp('2010-05-13 05:09:00'))],\n",
       " [858, (4.0, Timestamp('2010-06-24 20:16:00'))],\n",
       " [858, (4.5, Timestamp('2010-08-08 04:14:00'))],\n",
       " [858, (5.0, Timestamp('2010-08-30 05:08:00'))],\n",
       " [858, (4.5, Timestamp('2010-12-08 05:11:00'))],\n",
       " [858, (5.0, Timestamp('2011-01-03 20:52:00'))],\n",
       " [858, (4.0, Timestamp('2011-01-28 07:04:00'))],\n",
       " [858, (3.0, Timestamp('2011-02-22 13:56:00'))],\n",
       " [858, (4.0, Timestamp('2011-03-06 23:43:00'))],\n",
       " [858, (5.0, Timestamp('2011-04-30 04:51:00'))],\n",
       " [858, (4.5, Timestamp('2011-05-10 03:43:00'))],\n",
       " [858, (5.0, Timestamp('2011-07-01 05:54:00'))],\n",
       " [858, (4.5, Timestamp('2011-07-11 11:15:00'))],\n",
       " [858, (4.5, Timestamp('2011-09-01 18:22:00'))],\n",
       " [858, (5.0, Timestamp('2011-10-15 20:37:00'))],\n",
       " [858, (4.5, Timestamp('2012-01-23 04:15:00'))],\n",
       " [858, (3.5, Timestamp('2012-06-09 09:43:00'))],\n",
       " [858, (4.0, Timestamp('2012-06-12 01:14:00'))],\n",
       " [858, (5.0, Timestamp('2012-07-20 03:24:00'))],\n",
       " [858, (5.0, Timestamp('2012-07-24 14:53:00'))],\n",
       " [858, (4.0, Timestamp('2012-07-31 17:00:00'))],\n",
       " [858, (4.5, Timestamp('2012-11-23 18:11:00'))],\n",
       " [858, (4.0, Timestamp('2013-02-05 19:14:00'))],\n",
       " [858, (4.0, Timestamp('2013-04-05 00:48:00'))],\n",
       " [858, (4.0, Timestamp('2013-05-05 06:46:00'))],\n",
       " [858, (5.0, Timestamp('2013-06-01 09:37:00'))],\n",
       " [858, (5.0, Timestamp('2013-06-29 17:07:00'))],\n",
       " [858, (5.0, Timestamp('2013-09-28 08:40:00'))],\n",
       " [858, (4.5, Timestamp('2013-12-12 22:55:00'))],\n",
       " [858, (4.5, Timestamp('2014-01-14 19:03:00'))],\n",
       " [858, (5.0, Timestamp('2014-01-15 12:37:00'))],\n",
       " [858, (4.5, Timestamp('2014-02-02 14:14:00'))],\n",
       " [858, (4.0, Timestamp('2014-08-23 09:22:00'))],\n",
       " [858, (5.0, Timestamp('2014-09-09 10:53:00'))],\n",
       " [858, (5.0, Timestamp('2014-12-07 06:36:00'))],\n",
       " [858, (4.0, Timestamp('2014-12-19 11:21:00'))],\n",
       " [858, (3.5, Timestamp('2015-02-04 01:42:00'))],\n",
       " [858, (5.0, Timestamp('2015-02-26 16:40:00'))],\n",
       " [858, (5.0, Timestamp('2015-05-02 02:22:00'))],\n",
       " [858, (4.0, Timestamp('2015-05-23 09:37:00'))],\n",
       " [858, (3.5, Timestamp('2015-06-10 03:14:00'))],\n",
       " [858, (5.0, Timestamp('2015-07-01 23:48:00'))],\n",
       " [858, (4.0, Timestamp('2015-07-09 20:11:00'))],\n",
       " [858, (5.0, Timestamp('2015-07-13 23:34:00'))],\n",
       " [858, (5.0, Timestamp('2015-07-16 00:56:00'))],\n",
       " [858, (4.0, Timestamp('2015-07-20 22:06:00'))],\n",
       " [858, (5.0, Timestamp('2015-08-24 03:18:00'))],\n",
       " [858, (4.5, Timestamp('2015-09-02 14:33:00'))],\n",
       " [858, (4.0, Timestamp('2015-09-13 11:44:00'))],\n",
       " [858, (2.5, Timestamp('2015-09-28 01:07:00'))],\n",
       " [858, (5.0, Timestamp('2015-10-02 19:43:00'))],\n",
       " [858, (3.0, Timestamp('2015-11-04 19:53:00'))],\n",
       " [858, (5.0, Timestamp('2015-11-07 15:56:00'))],\n",
       " [858, (5.0, Timestamp('2015-11-09 02:11:00'))],\n",
       " [858, (4.0, Timestamp('2015-11-19 17:44:00'))],\n",
       " [858, (5.0, Timestamp('2015-12-05 22:01:00'))],\n",
       " [858, (4.0, Timestamp('2016-01-15 10:46:00'))],\n",
       " [858, (3.0, Timestamp('2016-04-11 04:38:00'))],\n",
       " [858, (4.5, Timestamp('2016-04-27 19:35:00'))],\n",
       " [858, (4.0, Timestamp('2016-05-15 20:34:00'))],\n",
       " [858, (5.0, Timestamp('2016-05-16 09:07:00'))],\n",
       " [858, (5.0, Timestamp('2016-05-19 20:20:00'))],\n",
       " [858, (4.5, Timestamp('2016-07-17 14:37:00'))],\n",
       " [858, (5.0, Timestamp('2016-07-28 11:14:00'))],\n",
       " [858, (4.0, Timestamp('2016-08-16 23:34:00'))]]"
      ]
     },
     "execution_count": 8,
     "metadata": {},
     "output_type": "execute_result"
    }
   ],
   "source": [
    "# first_film = dict(sorted(first_film.items(), key=lambda item: item[1]))\n",
    "test3 = []\n",
    "test4 = []\n",
    "for key, values in first_film.items():\n",
    "    for value in values:\n",
    "        test3.append([key, value])   \n",
    "for key, values in second_film.items():\n",
    "    for value in values:\n",
    "        test4.append([key, value])          \n",
    "test3.sort(key = lambda test_list: test_list[1][1])\n",
    "test4.sort(key = lambda test_list: test_list[1][1])\n"
   ]
  },
  {
   "cell_type": "code",
   "execution_count": 9,
   "metadata": {},
   "outputs": [],
   "source": [
    "def add_rating(lis,n,d):\n",
    "    avg = 0\n",
    "    count = 0\n",
    "    l = len(lis)\n",
    "    while l - n >= 0:\n",
    "        for i in range(count,n+count):\n",
    "            avg += lis[i][1][0]\n",
    "        d[count] = avg / n\n",
    "        count+=1\n",
    "        avg = 0\n",
    "        l-=1\n",
    "       "
   ]
  },
  {
   "cell_type": "code",
   "execution_count": 19,
   "metadata": {},
   "outputs": [
    {
     "data": {
      "text/plain": [
       "Text(0.5, 1.0, 'Godfather last 45 ratings')"
      ]
     },
     "execution_count": 19,
     "metadata": {},
     "output_type": "execute_result"
    },
    {
     "data": {
      "image/png": "[encoded data removed]",
      "text/plain": [
       "<Figure size 1500x300 with 1 Axes>"
      ]
     },
     "metadata": {
      "needs_background": "light"
     },
     "output_type": "display_data"
    }
   ],
   "source": [
    "baba = {}        \n",
    "add_rating(test3,30,baba)\n",
    "plt.figure(figsize=(10, 2), dpi=150)\n",
    "x = list(baba.keys())\n",
    "y = list(baba.values())\n",
    "plt.plot(x,y)\n",
    "plt.title(\"Godfather last 30 ratings\")"
   ]
  },
  {
   "cell_type": "code",
   "execution_count": null,
   "metadata": {},
   "outputs": [],
   "source": [
    "baba = {}        \n",
    "add_rating(test3,15,baba)\n",
    "plt.figure(figsize=(10, 2), dpi=150)\n",
    "x = list(baba.keys())\n",
    "y = list(baba.values())\n",
    "plt.plot(x,y)\n",
    "plt.title(\"Godfather last 15 ratings\")"
   ]
  },
  {
   "cell_type": "code",
   "execution_count": null,
   "metadata": {},
   "outputs": [],
   "source": [
    "baba = {}        \n",
    "add_rating(test3,45,baba)\n",
    "plt.figure(figsize=(10, 2), dpi=150)\n",
    "x = list(baba.keys())\n",
    "y = list(baba.values())\n",
    "plt.plot(x,y)\n",
    "plt.title(\"Godfather last 1 rating\")"
   ]
  },
  {
   "cell_type": "code",
   "execution_count": null,
   "metadata": {},
   "outputs": [],
   "source": [
    "baba = {}        \n",
    "add_rating(test4,45,baba)\n",
    "plt.figure(figsize=(10, 2), dpi=150)\n",
    "x = list(baba.keys())\n",
    "y = list(baba.values())\n",
    "plt.plot(x,y)\n",
    "plt.title(\"Godfather 2 last 30 ratings\")"
   ]
  },
  {
   "cell_type": "code",
   "execution_count": null,
   "metadata": {},
   "outputs": [],
   "source": [
    "baba = {}        \n",
    "add_rating(test4,45,baba)\n",
    "plt.figure(figsize=(10, 2), dpi=150)\n",
    "x = list(baba.keys())\n",
    "y = list(baba.values())\n",
    "plt.plot(x,y)\n",
    "plt.title(\"Godfather last 15 ratings\")"
   ]
  },
  {
   "cell_type": "code",
   "execution_count": null,
   "metadata": {},
   "outputs": [],
   "source": [
    "baba = {}        \n",
    "add_rating(test4,45,baba)\n",
    "plt.figure(figsize=(10, 2), dpi=150)\n",
    "x = list(baba.keys())\n",
    "y = list(baba.values())\n",
    "plt.plot(x,y)\n",
    "plt.title(\"Godfather last 1 rating\")"
   ]
  },
  {
   "cell_type": "markdown",
   "metadata": {
    "lang": "en"
   },
   "source": [
    "First I converted timestamp into DataTime object.Then I made two separate dictionaries for the movies I chose to plot.Then converted to list in order to sort them. After that I created a function which rates every last \"n\" movies. At the en"
   ]
  },
  {
   "cell_type": "markdown",
   "metadata": {
    "lang": "en"
   },
   "source": [
    "#### Question 5 (20%):\n",
    "How would you rate the popularity of individual actors? Describe the procedure\n",
    " for evaluating and print the 10 most popular actors.\n",
    "\n",
    "You can split the code into multiple cells."
   ]
  },
  {
   "cell_type": "code",
   "execution_count": 11,
   "metadata": {},
   "outputs": [],
   "source": [
    "actors = dict()\n",
    "reader = csv.DictReader(open('podatki/ml-latest-small/cast.csv', 'rt', encoding='utf-8'))\n",
    "for row in reader:\n",
    "    for actor in row[\"cast\"].split(\"|\"):\n",
    "        if actor not in actors:\n",
    "            actors[actor] = []\n",
    "        actors[actor].append(int(row[\"movieId\"]))\n"
   ]
  },
  {
   "cell_type": "code",
   "execution_count": 12,
   "metadata": {},
   "outputs": [],
   "source": [
    "test2 = dict()\n",
    "for i in test:\n",
    "    test2[i[0]] = i[2] \n",
    "actors_popularity = dict.fromkeys(actors.keys(), 0)\n",
    "for actor in actors:\n",
    "    num = 0\n",
    "    for ID in actors[actor]:\n",
    "        if ID in test2: num += test2[ID]\n",
    "    actors_popularity[actor] += num\n",
    "\n"
   ]
  },
  {
   "cell_type": "code",
   "execution_count": 13,
   "metadata": {},
   "outputs": [
    {
     "name": "stdout",
     "output_type": "stream",
     "text": [
      "Actor: Harrison Ford, Score: 44.45\n",
      "Actor: Robert De Niro, Score: 36.62\n",
      "Actor: Tom Hanks, Score: 35.0\n",
      "Actor: Matt Damon, Score: 30.99\n",
      "Actor: Morgan Freeman, Score: 28.05\n",
      "Actor: John Ratzenberger, Score: 26.82\n",
      "Actor: Sigourney Weaver, Score: 26.08\n",
      "Actor: Robert Duvall, Score: 24.84\n",
      "Actor: Brad Pitt, Score: 24.16\n",
      "Actor: Steve Buscemi, Score: 23.65\n"
     ]
    }
   ],
   "source": [
    "actors_popularity = sorted(actors_popularity.items(), key=lambda x: -x[1])\n",
    "for actorName, actorScore in actors_popularity[:11]:\n",
    "    if actorName: print(\"Actor: \" + actorName + \", Score: \" + str(round(actorScore, 2)))"
   ]
  },
  {
   "cell_type": "markdown",
   "metadata": {
    "lang": "en"
   },
   "source": [
    "I would like to rate actors by summating the ratings of their movies. I made a dictionary which I put actor as key, as value I put wheir movies which he played. Then I made another dictionary which I put name of the actory as key and actor's rating. "
   ]
  },
  {
   "cell_type": "markdown",
   "metadata": {
    "lang": "en"
   },
   "source": [
    "#### Bonus question (5%):\n",
    "\n",
    "What's your favorite movie? Why?"
   ]
  },
  {
   "cell_type": "markdown",
   "metadata": {
    "lang": "en"
   },
   "source": [
    "My favorite movie is Recep Ivedik 4 because the Recep Ivedik franchise is the ones who I will watch again and again but , according to the plot I chose that. The most important part of that movie is how the protagonist Recep Ivedik is how he enters the competition like Survivor in order to save the football field of the children."
   ]
  },
  {
   "cell_type": "markdown",
   "metadata": {},
   "source": []
  },
  {
   "cell_type": "markdown",
   "metadata": {
    "lang": "en"
   },
   "source": [
    "### Notes\n",
    "You can use the built-in `csv` module to load data."
   ]
  },
  {
   "cell_type": "code",
   "execution_count": 14,
   "metadata": {},
   "outputs": [],
   "source": [
    "from csv import DictReader\n",
    "\n",
    "reader = DictReader(open('podatki/ml-latest-small/ratings.csv', 'rt', encoding='utf-8'))\n",
    "for row in reader:\n",
    "    user = row[\"userId\"]\n",
    "    movie = row[\"movieId\"]\n",
    "    rating = row[\"rating\"]\n",
    "    timestamp = row[\"timestamp\"]"
   ]
  },
  {
   "cell_type": "markdown",
   "metadata": {
    "lang": "en"
   },
   "source": [
    "Data in the last line of the file:"
   ]
  },
  {
   "cell_type": "code",
   "execution_count": 15,
   "metadata": {},
   "outputs": [
    {
     "data": {
      "text/plain": [
       "('671', '6565', '3.5', '1074784724')"
      ]
     },
     "execution_count": 15,
     "metadata": {},
     "output_type": "execute_result"
    }
   ],
   "source": [
    "user, movie, rating, timestamp"
   ]
  },
  {
   "cell_type": "markdown",
   "metadata": {
    "lang": "en"
   },
   "source": [
    "Convert the time format (*Unix time*). Code about the structure is listed in documentation of the module  [`datetime`](https://docs.python.org/3/library/datetime.html#strftime-and-strptime-behavior)."
   ]
  },
  {
   "cell_type": "code",
   "execution_count": 16,
   "metadata": {},
   "outputs": [
    {
     "data": {
      "text/plain": [
       "'2008-08-05 02:56'"
      ]
     },
     "execution_count": 16,
     "metadata": {},
     "output_type": "execute_result"
    }
   ],
   "source": [
    "from datetime import datetime\n",
    "\n",
    "t = 1217897793 # Unix-time\n",
    "ts = datetime.fromtimestamp(t).strftime('%Y-%m-%d %H:%M')\n",
    "ts"
   ]
  },
  {
   "cell_type": "code",
   "execution_count": null,
   "metadata": {},
   "outputs": [],
   "source": []
  }
 ],
 "metadata": {
  "kernelspec": {
   "display_name": "Python 3",
   "language": "python",
   "name": "python3"
  },
  "language_info": {
   "codemirror_mode": {
    "name": "ipython",
    "version": 3
   },
   "file_extension": ".py",
   "mimetype": "text/x-python",
   "name": "python",
   "nbconvert_exporter": "python",
   "pygments_lexer": "ipython3",
   "version": "3.8.3"
  },
  "latex_envs": {
   "LaTeX_envs_menu_present": true,
   "autocomplete": true,
   "bibliofile": "biblio.bib",
   "cite_by": "apalike",
   "current_citInitial": 1,
   "eqLabelWithNumbers": true,
   "eqNumInitial": 1,
   "hotkeys": {
    "equation": "Ctrl-E",
    "itemize": "Ctrl-I"
   },
   "labels_anchors": false,
   "latex_user_defs": false,
   "report_style_numbering": false,
   "user_envs_cfg": false
  },
  "nbTranslate": {
   "displayLangs": [
    "en"
   ],
   "hotkey": "alt-t",
   "langInMainMenu": true,
   "sourceLang": "sl",
   "targetLang": "en",
   "useGoogleTranslate": true
  },
  "varInspector": {
   "cols": {
    "lenName": 16,
    "lenType": 16,
    "lenVar": 40
   },
   "kernels_config": {
    "python": {
     "delete_cmd_postfix": "",
     "delete_cmd_prefix": "del ",
     "library": "var_list.py",
     "varRefreshCmd": "print(var_dic_list())"
    },
    "r": {
     "delete_cmd_postfix": ") ",
     "delete_cmd_prefix": "rm(",
     "library": "var_list.r",
     "varRefreshCmd": "cat(var_dic_list()) "
    }
   },
   "types_to_exclude": [
    "module",
    "function",
    "builtin_function_or_method",
    "instance",
    "_Feature"
   ],
   "window_display": false
  }
 },
 "nbformat": 4,
 "nbformat_minor": 2
}
